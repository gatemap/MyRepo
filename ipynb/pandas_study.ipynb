{
 "cells": [
  {
   "cell_type": "code",
   "execution_count": 4,
   "metadata": {},
   "outputs": [],
   "source": [
    "import pandas as pd\n",
    "\n",
    "def pandas_test1() :\n",
    "    growth = pd.Series([143, 150, 157, 160], index=['2018', '2019', '2020', '2021'])\n",
    "    print(growth)\n",
    "\n",
    "\n",
    "def pandas_test2() :\n",
    "    index = ['2018', '2019', '2020', '2021']\n",
    "    \n",
    "    data = {\n",
    "        '영희' : [143, 150, 157, 160],\n",
    "        '철수' : [165, 172, 175, 180]\n",
    "    }\n",
    "    \n",
    "    growth = pd.DataFrame(data, columns=['영희', '철수'], index=index)\n",
    "    \n",
    "    growth\n",
    "\n",
    "\n",
    "def main() :\n",
    "    #pandas_test1()\n",
    "    pandas_test2()\n",
    "    \n",
    "\n",
    "if __name__ == '__main__' :\n",
    "    main()"
   ]
  }
 ],
 "metadata": {
  "kernelspec": {
   "display_name": "jp_01",
   "language": "python",
   "name": "python3"
  },
  "language_info": {
   "codemirror_mode": {
    "name": "ipython",
    "version": 3
   },
   "file_extension": ".py",
   "mimetype": "text/x-python",
   "name": "python",
   "nbconvert_exporter": "python",
   "pygments_lexer": "ipython3",
   "version": "3.8.18"
  }
 },
 "nbformat": 4,
 "nbformat_minor": 2
}
